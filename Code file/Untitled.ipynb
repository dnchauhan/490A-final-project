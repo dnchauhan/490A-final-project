{
 "cells": [
  {
   "cell_type": "code",
   "execution_count": 2,
   "id": "086a020c",
   "metadata": {},
   "outputs": [
    {
     "data": {
      "text/html": [
       "<div>\n",
       "<style scoped>\n",
       "    .dataframe tbody tr th:only-of-type {\n",
       "        vertical-align: middle;\n",
       "    }\n",
       "\n",
       "    .dataframe tbody tr th {\n",
       "        vertical-align: top;\n",
       "    }\n",
       "\n",
       "    .dataframe thead th {\n",
       "        text-align: right;\n",
       "    }\n",
       "</style>\n",
       "<table border=\"1\" class=\"dataframe\">\n",
       "  <thead>\n",
       "    <tr style=\"text-align: right;\">\n",
       "      <th></th>\n",
       "      <th>Unnamed: 0</th>\n",
       "      <th>business_id</th>\n",
       "      <th>stars</th>\n",
       "      <th>text</th>\n",
       "      <th>label</th>\n",
       "    </tr>\n",
       "  </thead>\n",
       "  <tbody>\n",
       "    <tr>\n",
       "      <th>0</th>\n",
       "      <td>24291</td>\n",
       "      <td>y2w6rFaO0XEiG5mFfOsiFA</td>\n",
       "      <td>1</td>\n",
       "      <td>Commenting on LACK of customer service. Bought...</td>\n",
       "      <td>negative</td>\n",
       "    </tr>\n",
       "    <tr>\n",
       "      <th>1</th>\n",
       "      <td>8558</td>\n",
       "      <td>NYa-JphaaB41ElGsb3iawA</td>\n",
       "      <td>3</td>\n",
       "      <td>Is the food good? Yes (but also pending what y...</td>\n",
       "      <td>neutral</td>\n",
       "    </tr>\n",
       "    <tr>\n",
       "      <th>2</th>\n",
       "      <td>4972</td>\n",
       "      <td>sA2gVTJOBH7Qk32p48ENdQ</td>\n",
       "      <td>5</td>\n",
       "      <td>Excellent seaffood options in the downtown are...</td>\n",
       "      <td>positive</td>\n",
       "    </tr>\n",
       "    <tr>\n",
       "      <th>3</th>\n",
       "      <td>27387</td>\n",
       "      <td>y2w6rFaO0XEiG5mFfOsiFA</td>\n",
       "      <td>5</td>\n",
       "      <td>This place is awesome. I would recommend anyon...</td>\n",
       "      <td>positive</td>\n",
       "    </tr>\n",
       "    <tr>\n",
       "      <th>4</th>\n",
       "      <td>6404</td>\n",
       "      <td>NYa-JphaaB41ElGsb3iawA</td>\n",
       "      <td>5</td>\n",
       "      <td>the blue cheese grilled corn - out of this wor...</td>\n",
       "      <td>positive</td>\n",
       "    </tr>\n",
       "  </tbody>\n",
       "</table>\n",
       "</div>"
      ],
      "text/plain": [
       "   Unnamed: 0             business_id  stars  \\\n",
       "0       24291  y2w6rFaO0XEiG5mFfOsiFA      1   \n",
       "1        8558  NYa-JphaaB41ElGsb3iawA      3   \n",
       "2        4972  sA2gVTJOBH7Qk32p48ENdQ      5   \n",
       "3       27387  y2w6rFaO0XEiG5mFfOsiFA      5   \n",
       "4        6404  NYa-JphaaB41ElGsb3iawA      5   \n",
       "\n",
       "                                                text     label  \n",
       "0  Commenting on LACK of customer service. Bought...  negative  \n",
       "1  Is the food good? Yes (but also pending what y...   neutral  \n",
       "2  Excellent seaffood options in the downtown are...  positive  \n",
       "3  This place is awesome. I would recommend anyon...  positive  \n",
       "4  the blue cheese grilled corn - out of this wor...  positive  "
      ]
     },
     "execution_count": 2,
     "metadata": {},
     "output_type": "execute_result"
    }
   ],
   "source": [
    "import pandas as pd\n",
    "import numpy as np\n",
    "import matplotlib.pyplot as plt\n",
    "df = pd.read_csv('restaurant_reviews.csv')\n",
    "# df.dropna(inplace=True)\n",
    "df.head()\n"
   ]
  },
  {
   "cell_type": "code",
   "execution_count": 3,
   "id": "7eec5853",
   "metadata": {
    "scrolled": true
   },
   "outputs": [
    {
     "data": {
      "text/html": [
       "<div>\n",
       "<style scoped>\n",
       "    .dataframe tbody tr th:only-of-type {\n",
       "        vertical-align: middle;\n",
       "    }\n",
       "\n",
       "    .dataframe tbody tr th {\n",
       "        vertical-align: top;\n",
       "    }\n",
       "\n",
       "    .dataframe thead th {\n",
       "        text-align: right;\n",
       "    }\n",
       "</style>\n",
       "<table border=\"1\" class=\"dataframe\">\n",
       "  <thead>\n",
       "    <tr style=\"text-align: right;\">\n",
       "      <th>col_0</th>\n",
       "      <th>Total count</th>\n",
       "    </tr>\n",
       "    <tr>\n",
       "      <th>stars</th>\n",
       "      <th></th>\n",
       "    </tr>\n",
       "  </thead>\n",
       "  <tbody>\n",
       "    <tr>\n",
       "      <th>1</th>\n",
       "      <td>1385</td>\n",
       "    </tr>\n",
       "    <tr>\n",
       "      <th>2</th>\n",
       "      <td>1365</td>\n",
       "    </tr>\n",
       "    <tr>\n",
       "      <th>3</th>\n",
       "      <td>2750</td>\n",
       "    </tr>\n",
       "    <tr>\n",
       "      <th>4</th>\n",
       "      <td>883</td>\n",
       "    </tr>\n",
       "    <tr>\n",
       "      <th>5</th>\n",
       "      <td>1867</td>\n",
       "    </tr>\n",
       "  </tbody>\n",
       "</table>\n",
       "</div>"
      ],
      "text/plain": [
       "col_0  Total count\n",
       "stars             \n",
       "1             1385\n",
       "2             1365\n",
       "3             2750\n",
       "4              883\n",
       "5             1867"
      ]
     },
     "execution_count": 3,
     "metadata": {},
     "output_type": "execute_result"
    }
   ],
   "source": [
    "pd.crosstab(index= df['stars'], columns = 'Total count')"
   ]
  },
  {
   "cell_type": "code",
   "execution_count": 4,
   "id": "a57dec29",
   "metadata": {},
   "outputs": [],
   "source": [
    "from sklearn.model_selection import train_test_split\n",
    "# Split data into training and test sets\n",
    "x_train, x_test, y_train, y_test = train_test_split(df['text'], df['stars'], random_state=0)\n",
    "# type(x_train), y_train\n",
    "\n"
   ]
  },
  {
   "cell_type": "code",
   "execution_count": 5,
   "id": "f30d681f",
   "metadata": {},
   "outputs": [],
   "source": [
    "from sklearn.feature_extraction.text import CountVectorizer\n",
    "# Fit the CountVectorizer to the training data\n",
    "vect = CountVectorizer().fit(x_train)"
   ]
  },
  {
   "cell_type": "code",
   "execution_count": 6,
   "id": "9986dc8e",
   "metadata": {},
   "outputs": [],
   "source": [
    "# print(vect)"
   ]
  },
  {
   "cell_type": "code",
   "execution_count": null,
   "id": "cebc7353",
   "metadata": {
    "scrolled": true
   },
   "outputs": [],
   "source": [
    "x_train_vecotrized = vect.transform(x_train)\n",
    "from scipy import sparse\n",
    "mtx = sparse.csr_matrix(x_train_vecotrized[:5], shape = (5, 20), dtype = np.int64)\n",
    "mtx.todense()\n",
    "# print(np.matrix(x_train_vecotrized[:5][:20]))"
   ]
  },
  {
   "cell_type": "code",
   "execution_count": 26,
   "id": "5128be35",
   "metadata": {},
   "outputs": [
    {
     "data": {
      "text/plain": [
       "LogisticRegression(max_iter=100000)"
      ]
     },
     "execution_count": 26,
     "metadata": {},
     "output_type": "execute_result"
    }
   ],
   "source": [
    "from sklearn.linear_model import LogisticRegression,SGDClassifier\n",
    "model = LogisticRegression(max_iter = 100000)\n",
    "model.fit(x_train_vecotrized, y_train)"
   ]
  },
  {
   "cell_type": "code",
   "execution_count": 37,
   "id": "776d6fb1",
   "metadata": {},
   "outputs": [
    {
     "data": {
      "text/plain": [
       "array([[4.40924713e-02, 1.65559400e-01, 2.27074369e-01, 2.24807893e-01,\n",
       "        3.38465867e-01],\n",
       "       [2.01473189e-03, 9.59689621e-01, 1.60746583e-02, 2.21807215e-02,\n",
       "        4.02670306e-05],\n",
       "       [2.00667870e-07, 4.61242164e-04, 9.99498546e-01, 5.38913096e-06,\n",
       "        3.46220682e-05],\n",
       "       ...,\n",
       "       [5.03642194e-01, 6.15057026e-02, 2.57371073e-01, 1.74457889e-01,\n",
       "        3.02314144e-03],\n",
       "       [6.44821168e-01, 1.48933494e-01, 1.80543730e-01, 8.20222203e-03,\n",
       "        1.74993859e-02],\n",
       "       [4.99392929e-06, 1.08946926e-02, 9.85052870e-01, 1.31881523e-04,\n",
       "        3.91556212e-03]])"
      ]
     },
     "execution_count": 37,
     "metadata": {},
     "output_type": "execute_result"
    }
   ],
   "source": [
    "from sklearn.metrics import roc_curve, roc_auc_score, auc\n",
    "# predictions = model.predict(vect.transform(x_test))\n",
    "# predictions\n",
    "pred_prob = model.predict_proba(vect.transform(x_test))\n",
    "pred_prob"
   ]
  },
  {
   "cell_type": "code",
   "execution_count": 39,
   "id": "4819295b",
   "metadata": {},
   "outputs": [
    {
     "name": "stdout",
     "output_type": "stream",
     "text": [
      "AUC:  0.8045309760891758\n"
     ]
    }
   ],
   "source": [
    "print('AUC: ', roc_auc_score(y_test, pred_prob, multi_class='ovr'))\n",
    "# false_positive_rate, true_positive_rate, thresholds = roc_curve(y_test, pred_prob)\n",
    "# roc_auc = auc(false_positive_rate, true_positive_rate)"
   ]
  },
  {
   "cell_type": "code",
   "execution_count": 43,
   "id": "cfd7592a",
   "metadata": {},
   "outputs": [
    {
     "name": "stdout",
     "output_type": "stream",
     "text": [
      "AUC:  0.8164149118587536\n"
     ]
    }
   ],
   "source": [
    "vect = CountVectorizer(min_df=5, ngram_range=(1,2)).fit(x_train)\n",
    "x_train_vectorized = vect.transform(x_train)\n",
    "model = LogisticRegression(max_iter=100000)\n",
    "model.fit(x_train_vectorized, y_train)\n",
    "predictions = model.predict_proba(vect.transform(x_test))\n",
    "print('AUC: ', roc_auc_score(y_test, predictions, multi_class='ovr'))\n",
    "# false_positive_rate, true_positive_rate, thresholds = roc_curve(y_test, predictions)\n",
    "# roc_auc = auc(false_positive_rate, true_positive_rate)"
   ]
  },
  {
   "cell_type": "code",
   "execution_count": null,
   "id": "99f14b6f",
   "metadata": {},
   "outputs": [],
   "source": []
  }
 ],
 "metadata": {
  "kernelspec": {
   "display_name": "Python 3 (ipykernel)",
   "language": "python",
   "name": "python3"
  },
  "language_info": {
   "codemirror_mode": {
    "name": "ipython",
    "version": 3
   },
   "file_extension": ".py",
   "mimetype": "text/x-python",
   "name": "python",
   "nbconvert_exporter": "python",
   "pygments_lexer": "ipython3",
   "version": "3.9.7"
  }
 },
 "nbformat": 4,
 "nbformat_minor": 5
}
