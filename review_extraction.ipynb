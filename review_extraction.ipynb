{
 "cells": [
  {
   "cell_type": "code",
   "execution_count": 2,
   "id": "cbc05b4c",
   "metadata": {},
   "outputs": [],
   "source": [
    "import json\n",
    "import ijson\n",
    "\n",
    "res_data = open('data.json', 'r')\n",
    "values = json.load(res_data)\n",
    "res_data.close()\n",
    "\n",
    "# values"
   ]
  },
  {
   "cell_type": "code",
   "execution_count": 3,
   "id": "883030ed",
   "metadata": {
    "scrolled": false
   },
   "outputs": [],
   "source": [
    "# for criteria in values['businesses']:\n",
    "#     for key, value in criteria.items():\n",
    "#         print(key, 'is:', value)\n",
    "#     print('')"
   ]
  },
  {
   "cell_type": "code",
   "execution_count": 4,
   "id": "5f43ff0b",
   "metadata": {},
   "outputs": [],
   "source": [
    "id_list = []\n",
    "\n",
    "for field in values['businesses']:    \n",
    "    for key,value in field.items():\n",
    "        if key == 'id':\n",
    "            id_list.append(value)\n",
    "\n",
    "# id_list"
   ]
  },
  {
   "cell_type": "code",
   "execution_count": 7,
   "id": "01542c83",
   "metadata": {},
   "outputs": [
    {
     "name": "stderr",
     "output_type": "stream",
     "text": [
      "432it [02:49,  2.54it/s]\n"
     ]
    }
   ],
   "source": [
    "import numpy as np\n",
    "import pandas as pd\n",
    "from tqdm import tqdm\n",
    "\n",
    "# specifying chunk size when reading review.json\n",
    "chunksize = 20000\n",
    "data_json_reader = pd.read_json(\"review.json\", lines=True, chunksize=chunksize)\n",
    "\n",
    "list_of_chunks = []\n",
    "# read json by chunks\n",
    "# for each chunk: drop unnecessary columns, and\n",
    "#     select subset of rows that exist in id_list\n",
    "for df_chunk in tqdm(data_json_reader):\n",
    "    df_chunk = df_chunk.drop(['review_id', 'user_id', 'useful', 'funny', 'cool', 'date'], axis=1)\n",
    "    df_chunk = df_chunk[df_chunk['business_id'].isin(id_list)]\n",
    "    list_of_chunks.append(df_chunk)\n",
    "\n",
    "# concat all the chunks of df to form final dataset\n",
    "final = pd.concat(list_of_chunks)"
   ]
  },
  {
   "cell_type": "code",
   "execution_count": 10,
   "id": "ee8d733a",
   "metadata": {},
   "outputs": [
    {
     "data": {
      "text/plain": [
       "5    17254\n",
       "4     8299\n",
       "3     2948\n",
       "1     1387\n",
       "2     1369\n",
       "Name: stars, dtype: int64"
      ]
     },
     "execution_count": 10,
     "metadata": {},
     "output_type": "execute_result"
    }
   ],
   "source": [
    "# 1, 2: neg\n",
    "# 3: neutral \n",
    "# 4, 5: positive\n",
    "final['stars'].value_counts()"
   ]
  },
  {
   "cell_type": "code",
   "execution_count": 11,
   "id": "bcb43dd6",
   "metadata": {},
   "outputs": [],
   "source": [
    "# export final dataframe to csv file\n",
    "# final.to_csv(\"yelp_reviews.csv\")"
   ]
  }
 ],
 "metadata": {
  "kernelspec": {
   "display_name": "Python 3",
   "language": "python",
   "name": "python3"
  },
  "language_info": {
   "codemirror_mode": {
    "name": "ipython",
    "version": 3
   },
   "file_extension": ".py",
   "mimetype": "text/x-python",
   "name": "python",
   "nbconvert_exporter": "python",
   "pygments_lexer": "ipython3",
   "version": "3.8.8"
  }
 },
 "nbformat": 4,
 "nbformat_minor": 5
}
