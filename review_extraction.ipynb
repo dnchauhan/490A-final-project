{
 "cells": [
  {
   "cell_type": "code",
   "execution_count": 1,
   "id": "cbc05b4c",
   "metadata": {},
   "outputs": [],
   "source": [
    "import json\n",
    "import ijson\n",
    "\n",
    "res_data = open('data.json', 'r')\n",
    "values = json.load(res_data)\n",
    "res_data.close()\n",
    "\n",
    "# values"
   ]
  },
  {
   "cell_type": "code",
   "execution_count": 2,
   "id": "883030ed",
   "metadata": {
    "scrolled": false
   },
   "outputs": [],
   "source": [
    "# for criteria in values['businesses']:\n",
    "#     for key, value in criteria.items():\n",
    "#         print(key, 'is:', value)\n",
    "#     print('')"
   ]
  },
  {
   "cell_type": "code",
   "execution_count": 3,
   "id": "5f43ff0b",
   "metadata": {},
   "outputs": [
    {
     "data": {
      "text/plain": [
       "140"
      ]
     },
     "execution_count": 3,
     "metadata": {},
     "output_type": "execute_result"
    }
   ],
   "source": [
    "id_list = []\n",
    "\n",
    "for field in values['businesses']:    \n",
    "    for key,value in field.items():\n",
    "        if key == 'id':\n",
    "            id_list.append(value)\n",
    "\n",
    "len(set(id_list))"
   ]
  },
  {
   "cell_type": "code",
   "execution_count": 4,
   "id": "ab98039e",
   "metadata": {},
   "outputs": [
    {
     "data": {
      "text/plain": [
       "['sA2gVTJOBH7Qk32p48ENdQ',\n",
       " 'kP1b-7BO_VhWk_0tvuA_tw',\n",
       " 'xlOMKjE4omTgkI1eduWj8A',\n",
       " 'tKRg7pxR2Sw7aSrHTQS5mQ',\n",
       " 'y2w6rFaO0XEiG5mFfOsiFA',\n",
       " 't_FFcwUutj9mIYKGw_gHsQ',\n",
       " 'lCMN0raxlHnBFDoLgkz4sw',\n",
       " 'kb0VfKZKHHhvDze3JZqi0Q',\n",
       " 'EbUZhM4fLpsWQ8fpBhhgEQ',\n",
       " 'NYa-JphaaB41ElGsb3iawA',\n",
       " 'lPAzwB4vPBqZmaFNH90kiQ',\n",
       " '2u_w3rthRzR2uEihW5BC4A',\n",
       " '9gtpqrz-5bLzf6SlhYI3vA',\n",
       " 'nyy38msunExaObJOeH7j0Q',\n",
       " 'uXOVFQraz1va1TrtgiqYTg',\n",
       " 'mP1EdIafQKMuOm9O4PzAfA',\n",
       " 'E3Qqa99qFy1oeGMv0wPBBQ',\n",
       " 'nIS4O-TwLYkA_P1Cu0SfhA',\n",
       " 'AGR_kBvN__I7aTl0rBywAg',\n",
       " 'xZ22_0eJOgaiKqIhoSHrPw',\n",
       " 'fVbUVAiLiGgLA_nxBFxyww',\n",
       " 'J3NT61-AH5d5Gu5tFJhYSw',\n",
       " 'qEe7nIhPfEL6L0-VYhWRrA',\n",
       " '0CjK3esfpFcxIopebzjFxA',\n",
       " 'ETgJqJHV7BW6pIr9Ox74sA',\n",
       " 'B3_K2kUVbYOU0VaLcj_LTw',\n",
       " 'FlZ1zdVEKWv7dwqm8Uw8-w',\n",
       " 'liZmIO0FqZwslLJfLDkfgw',\n",
       " 'jjJc_CrkB2HodEinB6cWww',\n",
       " 'WG639VkTjmK5dzydd1BBJA',\n",
       " 'ysqgdbSrezXgVwER2kQWKA',\n",
       " 'uoT2_Wrt1noD6kZOID7tUg',\n",
       " 'hdiuRS9sVZSMReZm4oV5SA',\n",
       " '16ZnHpuaaBt92XWeJHCC5A',\n",
       " 'aZ_a78wVWnQnV6BdMwcFVA',\n",
       " '8SehQovJOuQDLbtzLLYLyw',\n",
       " 'nHMDOIX32dGbfpuNUwsLNQ',\n",
       " '4FD0TAxe70nb3ngk3sXF9Q',\n",
       " '9fG8-RRh1rzuCKN2TmF-QQ',\n",
       " 'gtXP0CmOnBbgfnff7VXa7A',\n",
       " 'z0zaCVA-p_5xTsyUZrmR0g',\n",
       " '88kri8FhXy8b3DQ_QjSMmQ',\n",
       " 'h1R2iKYdm2lwukzMJvJqDw',\n",
       " '25fipMHUHLZTq0sVQINi5g',\n",
       " 'WO12S4gvOYkYF8_70RWrQA',\n",
       " 'h2u-coGd8WWClyU3b7jf8w',\n",
       " 'RVbZaawgEGmto6TxOoVBdQ',\n",
       " 'cal0Wpupxj9c_AV7WzDXsw',\n",
       " 'HuQtriV_ApipXfM8xax33w',\n",
       " 'fCfkMf27m2PcTWXLTrLM7Q',\n",
       " 'wvaNbC16NuJIQD0g8WPjRw',\n",
       " 'DrToq9357afdpOyO5w0Y5w',\n",
       " 'AIhWsp8yNfKZfaX9d9Yajg',\n",
       " 'TWHGJkTAbF22hvXeReQp9w',\n",
       " '3C2wUqSkpY4-N0O5ArVjwQ',\n",
       " 'MlmcOkwaNnxl3Zuk6HsPCQ',\n",
       " 'kdTFcDSl9vAR-btEm1Q2uw',\n",
       " 'rr-hXB0ZqXLzUP97yftp0g',\n",
       " 'GKQApReu8U9hip4A2ApJ_A',\n",
       " 'BSUDJiaKZwbB8G-GTUst_g',\n",
       " 'UXHxLN3DcDGI57uDIfCuJA',\n",
       " 'SyVrRDKTGgVGNSNAbngxfw',\n",
       " 'opz-z4k-WK0KsyyR1Vwg5A',\n",
       " '-b4dNNCCsDMtidBcGtlM7g',\n",
       " 's4LuSZ5F_1R2mRb3pOHNbQ',\n",
       " 'O4gh_gZPp1zW9QtC1aMHWw',\n",
       " 'ix8ifP1jQM9ektdVAs19sQ',\n",
       " '_tMXqt6aeU_UajCi-Gov1Q',\n",
       " '1h8-r9cLeXxW99HhlRUnlA',\n",
       " 'hZ66PVSH6Miscv2n8KxAEg',\n",
       " 'WLXQNtdVm0sPbJ3MvCIyBw',\n",
       " 'V3btCvWa1flTBYt2YKea_g',\n",
       " 'jp8y_UlQW8KE0yAcJ1Jubg',\n",
       " 'YQbG-8223QKr-X_Yqu-bVw',\n",
       " 'LnyDHTiXoPRSxk7e5qPl4w',\n",
       " 'Dzk_O70dBXoKcIQQeaOqyw',\n",
       " 'bqTmkGBOUV6ReXWk1BVa2w',\n",
       " 'tGKkA2Ru_tfiQdHWIjUA1A',\n",
       " 'QQnw1bFxLyamuxn4giIy9g',\n",
       " 'ADe7l7J_Cn4n6ptFNXW-tg',\n",
       " 'HHtpR0RslupSQ99GIIwW5A',\n",
       " 'ttarnopezxmp2ROB1N2PaA',\n",
       " '-DrR38H1Abk0wCyu9XOLug',\n",
       " 'f-m7-hyFzkf0HSEeQ2s-9A',\n",
       " '8kck3-K4zYKTJbJko0JlXQ',\n",
       " 'XhJ6ZYagcWNHpJ1H1KvNlQ',\n",
       " '8dUaybEPHsZMgr1iKgqgMQ',\n",
       " 'XQLmEdXoMzOpffwoFaBtaQ',\n",
       " '_hOVIgjVRl_HzvLaa65KJg',\n",
       " 'MaaySW1ejpwQCkr9jn1glA',\n",
       " 'BjlVE7tTp1UCEttgkM1Big',\n",
       " 'dY0Mc_PHH6nLENvWmVtwxQ',\n",
       " 'XAYwAF_83becwNnSJDFkpA',\n",
       " 'AtFGQccBpgEZzsy9V1330Q',\n",
       " 'TlBFKt2N2eSEBpN-UZmDBw',\n",
       " '8u7pyRsCdf0DOP-Vg6MuLQ',\n",
       " 'd5752S_RDb26HxoL6O06eQ',\n",
       " 'eYXwVR4mMAjzkJnm5wneHQ',\n",
       " 'B09WOy0W83Od-Xw4xEXxog',\n",
       " '0A_ZUL5r8wwL1oWnzmqSog',\n",
       " '0ggseJ7x1t-I-I8GA6knjw',\n",
       " 'S9w52Y8f_nfv8QXuHmXBCg',\n",
       " '1Gdcycg8N2j9oJbH1D6lBg',\n",
       " '94j7QMjtGtLCNoXjca95Jw',\n",
       " '1xHC1WbRBSv_DRRh8dP5IA',\n",
       " 'Ie-qeBdtdOavjzdQPH1IGw',\n",
       " '1K-cj8tD7mHMuDxvkeI-xw',\n",
       " 'LXXAXCEiU4nCM8wScorQHQ',\n",
       " 'LcfGULHH5iJ5VkT9q04iMg',\n",
       " 'hRoE_3CUPnxn_1oDjjd9Lg',\n",
       " '0_n0QgP_AookwqzVfZIFgQ',\n",
       " 't3ZQ2eUTL4c683gbP4fmjA',\n",
       " '2xvvqUWeYDsMgixuZCpyLQ',\n",
       " '1yFNsud2RmCzfogPNDTbNw',\n",
       " 'o766sCbxUEbiBxr14X4ryw',\n",
       " 'd1PfS_bozULtBY4PjF3D-w',\n",
       " 'T-Ouo3opXRiUEyGoBT0aoA',\n",
       " 'snV8jGHnoVWBNJyRUBJYug',\n",
       " '6EIJiG73rc9zCZSXOrksbw',\n",
       " 'zwC34RoPsOM_j3-V05DYfQ',\n",
       " 'okaqMJEoHfHblpKz9Q-CMA',\n",
       " 'zm6Peew9j8YtowzUu4sQfA',\n",
       " 'W2QV6SILHer3qB_-CZ1z1A',\n",
       " 'wfkj7DK8YzhdwhhFc2OntA',\n",
       " 'qUhMEd8oDAwGqBEF9mNKFQ',\n",
       " 'vLNDwB7xaqE5OsmZ0Y3gng',\n",
       " 'qjnpkS8yZO8xcyEIy5OU9A',\n",
       " 'faOpq9ORL0FlsMrou2NYug',\n",
       " '0IYXh7l_VppKw5y97FehoA',\n",
       " 'f3mkFF9TW4nSSCmHw3N97A',\n",
       " 'iOMvXQYFl6_mtw0wX6ZUXw',\n",
       " 'ssO_Xo9bhQcgyAH9UEQJXQ',\n",
       " 'm5_GCJP2W4zEJnyVgxa3eA',\n",
       " 'WUK_G_6ECozMtnJX3YVdIg',\n",
       " 'boE4Ahsssqic7o5wQLI04w',\n",
       " '87bmC0ZQ3pVU-wxRGtRkkQ',\n",
       " 'apo9fX6Opmr2Z87sm-_cfg',\n",
       " 'TBCNrNW2WY4kuvg9LybEFA',\n",
       " 'kuJLjqq0m_tWfkgkMV6WrA',\n",
       " 'nnP8axu680aDGPdQ4TuSkA']"
      ]
     },
     "execution_count": 4,
     "metadata": {},
     "output_type": "execute_result"
    }
   ],
   "source": [
    "id_list"
   ]
  },
  {
   "cell_type": "code",
   "execution_count": 5,
   "id": "01542c83",
   "metadata": {},
   "outputs": [
    {
     "name": "stderr",
     "output_type": "stream",
     "text": [
      "288it [03:16,  1.46it/s]\n"
     ]
    }
   ],
   "source": [
    "import numpy as np\n",
    "import pandas as pd\n",
    "from tqdm import tqdm\n",
    "\n",
    "# specifying chunk size when reading review.json\n",
    "chunksize = 30000\n",
    "data_json_reader = pd.read_json(\"review.json\", lines=True, chunksize=chunksize)\n",
    "\n",
    "list_of_chunks = []\n",
    "# read json by chunks\n",
    "# for each chunk: drop unnecessary columns, and\n",
    "#     select subset of rows that exist in id_list\n",
    "for df_chunk in tqdm(data_json_reader):\n",
    "    df_chunk = df_chunk.drop(['review_id', 'user_id', 'useful', 'funny', 'cool', 'date'], axis=1)\n",
    "    df_chunk = df_chunk[df_chunk['business_id'].isin(id_list)]\n",
    "    list_of_chunks.append(df_chunk)\n",
    "\n",
    "# concat all the chunks of df to form final dataset\n",
    "final = pd.concat(list_of_chunks)"
   ]
  },
  {
   "cell_type": "code",
   "execution_count": 6,
   "id": "85de1fd1",
   "metadata": {},
   "outputs": [
    {
     "data": {
      "text/plain": [
       "288"
      ]
     },
     "execution_count": 6,
     "metadata": {},
     "output_type": "execute_result"
    }
   ],
   "source": [
    "len(list_of_chunks)"
   ]
  },
  {
   "cell_type": "code",
   "execution_count": 10,
   "id": "ca4b75a0",
   "metadata": {},
   "outputs": [
    {
     "data": {
      "text/plain": [
       "5    17254\n",
       "4     8299\n",
       "3     2948\n",
       "1     1387\n",
       "2     1369\n",
       "Name: stars, dtype: int64"
      ]
     },
     "execution_count": 10,
     "metadata": {},
     "output_type": "execute_result"
    }
   ],
   "source": [
    "# 1, 2: neg\n",
    "# 3: neutral \n",
    "# 4, 5: positive\n",
    "final['stars'].value_counts()"
   ]
  },
  {
   "cell_type": "code",
   "execution_count": 8,
   "id": "b66077a6",
   "metadata": {},
   "outputs": [],
   "source": [
    "# export final dataframe to csv file\n",
    "# final.to_csv(\"yelp_reviews.csv\")"
   ]
  }
 ],
 "metadata": {
  "kernelspec": {
   "display_name": "Python 3",
   "language": "python",
   "name": "python3"
  },
  "language_info": {
   "codemirror_mode": {
    "name": "ipython",
    "version": 3
   },
   "file_extension": ".py",
   "mimetype": "text/x-python",
   "name": "python",
   "nbconvert_exporter": "python",
   "pygments_lexer": "ipython3",
   "version": "3.8.8"
  }
 },
 "nbformat": 4,
 "nbformat_minor": 5
}
